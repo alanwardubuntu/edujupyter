{
 "cells": [
  {
   "cell_type": "markdown",
   "metadata": {},
   "source": [
    "# Résolution d'une équation de deuxième degré"
   ]
  },
  {
   "cell_type": "markdown",
   "metadata": {},
   "source": [
    "Définissons le problème comme l'équation bien connue: a.x2 + bx + c == 0, avec {a, b, c} coefficients réels."
   ]
  },
  {
   "cell_type": "code",
   "execution_count": 39,
   "metadata": {},
   "outputs": [],
   "source": [
    "from sympy import *\n",
    "\n",
    "a, b, c = symbols('a b c')"
   ]
  },
  {
   "cell_type": "markdown",
   "metadata": {},
   "source": [
    "Calculons les expressions littérales de la solution de l'équation:"
   ]
  },
  {
   "cell_type": "code",
   "execution_count": 40,
   "metadata": {},
   "outputs": [
    {
     "name": "stdout",
     "output_type": "stream",
     "text": [
      "delta = -4*a*c + b**2\n",
      "x1 = (-b - sqrt(-4*a*c + b**2))/(2*a)\n",
      "x2 = (-b + sqrt(-4*a*c + b**2))/(2*a)\n"
     ]
    }
   ],
   "source": [
    "delta = b**2 - 4*a*c\n",
    "print (\"delta = %s\" % delta)\n",
    "\n",
    "x1 = (-b - sqrt(delta))/(2*a)\n",
    "x2 = (-b + sqrt(delta))/(2*a)\n",
    "print (\"x1 = %s\" % x1)\n",
    "print (\"x2 = %s\" % x2)"
   ]
  },
  {
   "cell_type": "markdown",
   "metadata": {},
   "source": [
    "Faisons maintenant une application numérique concrète:"
   ]
  },
  {
   "cell_type": "code",
   "execution_count": 41,
   "metadata": {},
   "outputs": [],
   "source": [
    "a = 3.0\n",
    "b = -1.0\n",
    "c = 4.0"
   ]
  },
  {
   "cell_type": "markdown",
   "metadata": {},
   "source": [
    "Calculons de nouveau les expressions des solutions. Cette fois-ci, nous connaissons les valeurs de a, b et c, et le système nous calcule les valeurs numériques des solutions. Attention: il s'agit de nombres complexes puisque delta est négatif:"
   ]
  },
  {
   "cell_type": "code",
   "execution_count": 42,
   "metadata": {},
   "outputs": [
    {
     "name": "stdout",
     "output_type": "stream",
     "text": [
      "delta = -47.0\n",
      "x1 = 0.166666666666667 - 1.14260910006684*I\n",
      "x2 = 0.166666666666667 + 1.14260910006684*I\n"
     ]
    }
   ],
   "source": [
    "delta = b**2 - 4*a*c\n",
    "print (\"delta = %s\" % delta)\n",
    "\n",
    "x1 = (-b - sqrt(delta))/(2*a)\n",
    "x2 = (-b + sqrt(delta))/(2*a)\n",
    "print (\"x1 = %s\" % x1)\n",
    "print (\"x2 = %s\" % x2)"
   ]
  },
  {
   "cell_type": "markdown",
   "metadata": {},
   "source": [
    "Alternativement, on peut utiliser directement les possibilités de sympy pour résoudre l'équation directement. Si nous connaissons le syntaxe nécessaire, celà peut être un poil plus rapide:"
   ]
  },
  {
   "cell_type": "code",
   "execution_count": 43,
   "metadata": {},
   "outputs": [
    {
     "data": {
      "text/plain": [
       "[0.166666666666667 - 1.14260910006684*I,\n",
       " 0.166666666666667 + 1.14260910006684*I]"
      ]
     },
     "execution_count": 43,
     "metadata": {},
     "output_type": "execute_result"
    }
   ],
   "source": [
    "solve(a*x**2 + b*x + c, x)"
   ]
  }
 ],
 "metadata": {
  "kernelspec": {
   "display_name": "Python 3",
   "language": "python",
   "name": "python3"
  },
  "language_info": {
   "codemirror_mode": {
    "name": "ipython",
    "version": 3
   },
   "file_extension": ".py",
   "mimetype": "text/x-python",
   "name": "python",
   "nbconvert_exporter": "python",
   "pygments_lexer": "ipython3",
   "version": "3.7.3"
  }
 },
 "nbformat": 4,
 "nbformat_minor": 2
}
