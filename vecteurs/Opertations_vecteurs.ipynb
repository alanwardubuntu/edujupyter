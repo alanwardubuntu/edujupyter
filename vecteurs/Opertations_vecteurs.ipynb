{
 "cells": [
  {
   "cell_type": "markdown",
   "metadata": {},
   "source": [
    "# Opérations simples entre vecteurs"
   ]
  },
  {
   "cell_type": "code",
   "execution_count": 1,
   "metadata": {},
   "outputs": [
    {
     "name": "stdout",
     "output_type": "stream",
     "text": [
      "Deux vecteurs, u et v\n",
      "[1, 1, 1]\n",
      "[-1, 1, 1]\n",
      "Module des vecteurs\n",
      "1.73205080757 1.73205080757\n",
      "Produit scalaire u . v\n",
      "1\n",
      "Cos angle\n",
      "0.333333333333\n",
      "Angle (rad)\n",
      "1.23095941734\n",
      "Angle (deg)\n",
      "70.5287793655\n",
      "Produit vectoriel u x v\n",
      "[ 0 -2  2]\n"
     ]
    }
   ],
   "source": [
    "import numpy as np\n",
    "\n",
    "u = [1, 1, 1]\n",
    "v = [-1, 1, 1]\n",
    "\n",
    "print (\"Deux vecteurs, u et v\")\n",
    "print (u)\n",
    "print (v)\n",
    "\n",
    "print (\"Module des vecteurs\")\n",
    "nu = np.linalg.norm(u)\n",
    "nv = np.linalg.norm(v)\n",
    "print (nu, nv)\n",
    "\n",
    "print (\"Produit scalaire u . v\")\n",
    "ps = np.dot(u, v)\n",
    "print (ps)\n",
    "\n",
    "print (\"Cos angle\")\n",
    "c = ps / (nu * nv)\n",
    "print (c)\n",
    "\n",
    "print (\"Angle (rad)\")\n",
    "print (np.arccos(c))\n",
    "\n",
    "print (\"Angle (deg)\")\n",
    "print (np.arccos(c) / np.pi * 180.0)\n",
    "\n",
    "print (\"Produit vectoriel u x v\")\n",
    "pv = np.cross(u, v)\n",
    "print (pv)\n"
   ]
  },
  {
   "cell_type": "code",
   "execution_count": null,
   "metadata": {},
   "outputs": [],
   "source": []
  }
 ],
 "metadata": {
  "kernelspec": {
   "display_name": "Python 3",
   "language": "python",
   "name": "python3"
  },
  "language_info": {
   "codemirror_mode": {
    "name": "ipython",
    "version": 3
   },
   "file_extension": ".py",
   "mimetype": "text/x-python",
   "name": "python",
   "nbconvert_exporter": "python",
   "pygments_lexer": "ipython3",
   "version": "3.6.8"
  }
 },
 "nbformat": 4,
 "nbformat_minor": 2
}
