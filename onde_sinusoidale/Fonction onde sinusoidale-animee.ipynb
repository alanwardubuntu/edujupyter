{
 "cells": [
  {
   "cell_type": "markdown",
   "metadata": {},
   "source": [
    "# Création d'une fonction onde avec Jupyter - version animée\n",
    "Définissions une fonction sinusoïdale à partir de ses éléments. Commençons \n",
    "par établir les paramètres de l'onde."
   ]
  },
  {
   "cell_type": "code",
   "execution_count": 1,
   "metadata": {},
   "outputs": [
    {
     "name": "stdout",
     "output_type": "stream",
     "text": [
      "amplitude A = 1.000000 m\n",
      "fréquence f = 2.00000 1/s\n",
      "phase phi = 0.00000 rad\n",
      "vitesse c = 4.00000 m/s\n"
     ]
    }
   ],
   "source": [
    "import numpy as np\n",
    "import matplotlib.pyplot as plt\n",
    "\n",
    "from matplotlib import animation\n",
    "from IPython.display import HTML, Image\n",
    "\n",
    "\n",
    "A = 1.0 \n",
    "print (\"amplitude A = %5f m\" % A)\n",
    "f = 2.0\n",
    "print (\"fréquence f = %.5f 1/s\" % f)\n",
    "phi = 0.0 \n",
    "print (\"phase phi = %.5f rad\" % phi)\n",
    "c = 4.0 \n",
    "print (\"vitesse c = %.5f m/s\" % c)"
   ]
  },
  {
   "cell_type": "markdown",
   "metadata": {},
   "source": [
    "Nous pouvons calculer d'autres paramètres à partir des précédentes."
   ]
  },
  {
   "cell_type": "code",
   "execution_count": 2,
   "metadata": {},
   "outputs": [
    {
     "name": "stdout",
     "output_type": "stream",
     "text": [
      "pulsation omega = 12.56637 rad / s\n",
      "période T = 0.50000 s\n",
      "longueur d'onde lambda = 2.00000 m\n",
      "nombre d'onde k = 3 rad / m\n"
     ]
    }
   ],
   "source": [
    "omega = 2.0 * np.pi * f \n",
    "print (\"pulsation omega = %.5f rad / s\" % omega)\n",
    "T = 1.0 / f \n",
    "print (\"période T = %.5f s\" % T)\n",
    "lambd = c * T\n",
    "print (\"longueur d'onde lambda = %.5f m\" % lambd)\n",
    "k = 2 * np.pi / lambd\n",
    "print (\"nombre d'onde k = %.f rad / m\" % k)"
   ]
  },
  {
   "cell_type": "markdown",
   "metadata": {},
   "source": [
    "Avec ces, données, allons représenter notre onde aux instants \n",
    "t = 0, 0.1, 0.2, 0.3 s. Rappellons que une période T est égale à 0.5 s."
   ]
  },
  {
   "cell_type": "code",
   "execution_count": 4,
   "metadata": {},
   "outputs": [
    {
     "data": {
      "text/html": [
       "<img src=\"animation.gif\"/>"
      ],
      "text/plain": [
       "<IPython.core.display.Image object>"
      ]
     },
     "execution_count": 4,
     "metadata": {},
     "output_type": "execute_result"
    }
   ],
   "source": [
    "x = np.arange(-1.0, 5.0, 0.01)\n",
    "fig, ax = plt.subplots()\n",
    "ax.set_xlim(-1.1, 5.1)\n",
    "ax.set_ylim(-1.1, 1.1)\n",
    "\n",
    "p, = ax.plot([], [], 'b-')\n",
    "\n",
    "def init():\n",
    "    t = 0.0\n",
    "    psi = A * np.cos(omega * t - k * x + phi)\n",
    "    p.set_data([],[])\n",
    "    return (p,)\n",
    "\n",
    "    \n",
    "def update(t):\n",
    "    psi = A * np.cos(omega * t - k * x + phi)\n",
    "    p.set_data(x, psi)\n",
    "    return (p,)\n",
    "\n",
    "anim = animation.FuncAnimation(fig, update, init_func=init, frames = np.linspace(0, T, 30), blit=True)\n",
    "anim.save('animation.mp4', fps=20, codec=\"libx264\")\n",
    "anim.save('animation.gif', fps=20, writer=\"imagemagick\")\n",
    "plt.close()\n",
    "\n",
    "Image(url='animation.gif')"
   ]
  },
  {
   "cell_type": "code",
   "execution_count": null,
   "metadata": {},
   "outputs": [],
   "source": []
  },
  {
   "cell_type": "code",
   "execution_count": null,
   "metadata": {},
   "outputs": [],
   "source": []
  }
 ],
 "metadata": {
  "kernelspec": {
   "display_name": "Python 2",
   "language": "python",
   "name": "python2"
  },
  "language_info": {
   "codemirror_mode": {
    "name": "ipython",
    "version": 3
   },
   "file_extension": ".py",
   "mimetype": "text/x-python",
   "name": "python",
   "nbconvert_exporter": "python",
   "pygments_lexer": "ipython3",
   "version": "3.6.8"
  }
 },
 "nbformat": 4,
 "nbformat_minor": 2
}
